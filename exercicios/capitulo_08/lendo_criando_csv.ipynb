{
 "cells": [
  {
   "attachments": {},
   "cell_type": "markdown",
   "metadata": {},
   "source": [
    "- Importe a biblioteca csv"
   ]
  },
  {
   "cell_type": "code",
   "execution_count": 3,
   "metadata": {},
   "outputs": [],
   "source": [
    "import csv"
   ]
  },
  {
   "attachments": {},
   "cell_type": "markdown",
   "metadata": {},
   "source": [
    "- Abra o arquivo \"dados/populacao_mundial.csv\" e imprima-o na tela\n"
   ]
  },
  {
   "attachments": {},
   "cell_type": "markdown",
   "metadata": {},
   "source": [
    "- Repita o exercício anterior informando o delimitador '\\t'\n"
   ]
  },
  {
   "cell_type": "code",
   "execution_count": 7,
   "metadata": {},
   "outputs": [
    {
     "name": "stdout",
     "output_type": "stream",
     "text": [
      "['continente', 'pais', 'ano', 'população', '%_crescimento_populacional', 'crescimento_populacional', 'migrantes', 'idade_media', '%_fertilidade', '%_populacao_urbana', 'populacao_urbana', '%_populacao_mundial', 'classificacao']\n",
      "['Asia', 'Afghanistan', '1955', '8270991', '1.3', '103775', '-4000', '19.2', '7.45', '7.1', '587818', '0.3', '48']\n",
      "['Asia', 'Afghanistan', '1960', '8996973', '1.7', '145196', '-4000', '18.8', '7.45', '8.4', '755797', '0.3', '48']\n",
      "['Asia', 'Afghanistan', '1965', '9956320', '2.05', '191869', '-4000', '18.4', '7.45', '9.9', '984350', '0.3', '48']\n",
      "['Asia', 'Afghanistan', '1970', '11173642', '2.33', '243464', '-4000', '17.9', '7.45', '11.6', '1295433', '0.3', '48']\n"
     ]
    }
   ],
   "source": [
    "with open('../../dados/populacao_mundial.csv', mode='r') as arquivo_csv:\n",
    "  dados = list(csv.reader(arquivo_csv, delimiter='\\t'))\n",
    "  for linha in dados[:5]:\n",
    "    print(linha)"
   ]
  },
  {
   "attachments": {},
   "cell_type": "markdown",
   "metadata": {},
   "source": [
    "- Crie um novo arquivo csv usando as listas abaixo:\n",
    "\n",
    "cabecalho = ['pais', 'ano', '%_crescimento_populacional']\n",
    "\n",
    "populacao_pais = ['Chile', 'Chile', 'Chile', 'Chile', 'Chile']\n",
    "populacao_ano = ['1955', '1960', '1965', '1970', '1975']\n",
    "populacao_crescimento_populacional = ['1.3', '1.7', '2.05', '2.33', '2.58']"
   ]
  },
  {
   "cell_type": "code",
   "execution_count": 9,
   "metadata": {},
   "outputs": [],
   "source": [
    "cabecalho = ['pais', 'ano', '%_crescimento_populacional']\n",
    "populacao_pais = ['Chile', 'Chile', 'Chile', 'Chile', 'Chile']\n",
    "populacao_ano = ['1955', '1960', '1965', '1970', '1975']\n",
    "populacao_crescimento_populacional = ['1.3', '1.7', '2.05', '2.33', '2.58']\n",
    "\n",
    "linhas = []\n",
    "\n",
    "for linha in zip(populacao_pais,populacao_ano,populacao_crescimento_populacional):\n",
    "  linhas.append(linha)\n",
    "\n",
    "with open('../../dados/amostra_csv', 'w') as amostra:\n",
    "  escrita = csv.writer(amostra)\n",
    "  escrita.writerow(cabecalho)\n",
    "  escrita.writerows(linhas)"
   ]
  }
 ],
 "metadata": {
  "kernelspec": {
   "display_name": "Python 3",
   "language": "python",
   "name": "python3"
  },
  "language_info": {
   "codemirror_mode": {
    "name": "ipython",
    "version": 3
   },
   "file_extension": ".py",
   "mimetype": "text/x-python",
   "name": "python",
   "nbconvert_exporter": "python",
   "pygments_lexer": "ipython3",
   "version": "3.11.3"
  },
  "orig_nbformat": 4,
  "vscode": {
   "interpreter": {
    "hash": "916dbcbb3f70747c44a77c7bcd40155683ae19c65e1c03b4aa3499c5328201f1"
   }
  }
 },
 "nbformat": 4,
 "nbformat_minor": 2
}
