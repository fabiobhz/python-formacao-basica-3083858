{
 "cells": [
  {
   "attachments": {},
   "cell_type": "markdown",
   "metadata": {},
   "source": [
    "- Crie uma classe\n"
   ]
  },
  {
   "attachments": {},
   "cell_type": "markdown",
   "metadata": {},
   "source": [
    "- Estabeleça variáveis privadas no construtor \n"
   ]
  },
  {
   "attachments": {},
   "cell_type": "markdown",
   "metadata": {},
   "source": [
    "- Crie um método get, que retorne uma das variáveis privadas\n"
   ]
  },
  {
   "cell_type": "code",
   "execution_count": 36,
   "metadata": {},
   "outputs": [],
   "source": [
    "class Carro:\n",
    "  def __init__(self, cor = 'Preto'):\n",
    "    self._marca = 'Lynk&Co'\n",
    "    self._modelo = '01'\n",
    "    self._cor = cor\n",
    "\n",
    "  def getCor(self):\n",
    "    return self._cor\n",
    "\n",
    "  def setCor(self, nova_cor = 'Azul'):\n",
    "    if nova_cor:\n",
    "      self._cor = nova_cor\n",
    "      return self._cor"
   ]
  },
  {
   "attachments": {},
   "cell_type": "markdown",
   "metadata": {},
   "source": [
    "- Instancie a classe e imprima na tela a variável antes e depois da modificação\n"
   ]
  },
  {
   "cell_type": "code",
   "execution_count": 37,
   "metadata": {},
   "outputs": [
    {
     "name": "stdout",
     "output_type": "stream",
     "text": [
      "Preto\n",
      "Verde\n"
     ]
    }
   ],
   "source": [
    "meucarro = Carro()\n",
    "print(meucarro._cor)\n",
    "meucarro.setCor('Verde')\n",
    "print(meucarro._cor)"
   ]
  }
 ],
 "metadata": {
  "kernelspec": {
   "display_name": "Python 3",
   "language": "python",
   "name": "python3"
  },
  "language_info": {
   "codemirror_mode": {
    "name": "ipython",
    "version": 3
   },
   "file_extension": ".py",
   "mimetype": "text/x-python",
   "name": "python",
   "nbconvert_exporter": "python",
   "pygments_lexer": "ipython3",
   "version": "3.11.3"
  },
  "orig_nbformat": 4,
  "vscode": {
   "interpreter": {
    "hash": "916dbcbb3f70747c44a77c7bcd40155683ae19c65e1c03b4aa3499c5328201f1"
   }
  }
 },
 "nbformat": 4,
 "nbformat_minor": 2
}
