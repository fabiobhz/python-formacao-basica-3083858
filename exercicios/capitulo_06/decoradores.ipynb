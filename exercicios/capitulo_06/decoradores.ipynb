{
 "cells": [
  {
   "attachments": {},
   "cell_type": "markdown",
   "metadata": {},
   "source": [
    "- Crie um exemplo de função e em seguida crie um decorador para alterar o seu comportamento"
   ]
  },
  {
   "cell_type": "code",
   "execution_count": 6,
   "metadata": {},
   "outputs": [
    {
     "name": "stdout",
     "output_type": "stream",
     "text": [
      "Olá, Fabio\n"
     ]
    }
   ],
   "source": [
    "def cumprimenta(funcao):\n",
    "  def personaliza(nome):\n",
    "    cumprimento_pessoal = print(f'Olá, {nome}')\n",
    "    return cumprimento_pessoal\n",
    "  return personaliza\n",
    "\n",
    "@cumprimenta\n",
    "def pessoal(nome):\n",
    "  personalizado = nome\n",
    "  return personalizado\n",
    "\n",
    "pessoal('Fabio')"
   ]
  },
  {
   "attachments": {},
   "cell_type": "markdown",
   "metadata": {},
   "source": [
    "- Execute a função"
   ]
  }
 ],
 "metadata": {
  "kernelspec": {
   "display_name": "Python 3",
   "language": "python",
   "name": "python3"
  },
  "language_info": {
   "codemirror_mode": {
    "name": "ipython",
    "version": 3
   },
   "file_extension": ".py",
   "mimetype": "text/x-python",
   "name": "python",
   "nbconvert_exporter": "python",
   "pygments_lexer": "ipython3",
   "version": "3.11.3"
  },
  "orig_nbformat": 4,
  "vscode": {
   "interpreter": {
    "hash": "916dbcbb3f70747c44a77c7bcd40155683ae19c65e1c03b4aa3499c5328201f1"
   }
  }
 },
 "nbformat": 4,
 "nbformat_minor": 2
}
