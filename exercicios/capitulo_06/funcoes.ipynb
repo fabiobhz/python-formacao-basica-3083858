{
 "cells": [
  {
   "attachments": {},
   "cell_type": "markdown",
   "metadata": {},
   "source": [
    "- Crie uma função que receba como argumento 2 números e 1 operação matemática\n"
   ]
  },
  {
   "attachments": {},
   "cell_type": "markdown",
   "metadata": {},
   "source": [
    "- Implemente as funções de soma e multiplicação, nessa função\n"
   ]
  },
  {
   "cell_type": "code",
   "execution_count": null,
   "metadata": {},
   "outputs": [],
   "source": [
    "def operacoesAritmeticas(num1, num2, operacao):\n",
    "  if operacao == 'soma':\n",
    "    return num1 + num2\n",
    "  elif operacao == 'multiplicacao':\n",
    "    return num1 * num2\n",
    "\n",
    "operacoesAritmeticas(2,3,'multiplicacao')"
   ]
  },
  {
   "attachments": {},
   "cell_type": "markdown",
   "metadata": {},
   "source": [
    "- Modifique a função para que receba uma quantidade de argumentos não previsível e os imprima na tela\n"
   ]
  },
  {
   "cell_type": "code",
   "execution_count": 5,
   "metadata": {},
   "outputs": [
    {
     "data": {
      "text/plain": [
       "(2, 3, 5, 9, 12, 44)"
      ]
     },
     "execution_count": 5,
     "metadata": {},
     "output_type": "execute_result"
    }
   ],
   "source": [
    "def operacoesAritmeticas2(*numeros):\n",
    "  return numeros\n",
    "\n",
    "operacoesAritmeticas2(2,3,5,9,12,44)"
   ]
  },
  {
   "attachments": {},
   "cell_type": "markdown",
   "metadata": {},
   "source": [
    "- Use a biblioteca math para otimizar a função\n"
   ]
  },
  {
   "cell_type": "code",
   "execution_count": 7,
   "metadata": {},
   "outputs": [
    {
     "data": {
      "text/plain": [
       "22"
      ]
     },
     "execution_count": 7,
     "metadata": {},
     "output_type": "execute_result"
    }
   ],
   "source": [
    "import math\n",
    "def operacoesAritmeticas3(*args,**kwargs):\n",
    "  for argumento, valor in kwargs.items():\n",
    "    if argumento == 'operacao' and valor == 'soma':\n",
    "      return sum(args)\n",
    "    elif argumento == 'operacao' and valor == 'subtracao':\n",
    "      pass\n",
    "    elif argumento == 'operacao' and valor == 'multiplicacao':\n",
    "      return math.prod(args)\n",
    "    elif argumento == 'operacao' and valor == 'divisao':\n",
    "      pass\n",
    "    \n",
    "operacoesAritmeticas3(2,3,10,2,5, operacao='soma')"
   ]
  },
  {
   "attachments": {},
   "cell_type": "markdown",
   "metadata": {},
   "source": [
    "- Escreva uma função do tipo lambda"
   ]
  }
 ],
 "metadata": {
  "kernelspec": {
   "display_name": "Python 3",
   "language": "python",
   "name": "python3"
  },
  "language_info": {
   "codemirror_mode": {
    "name": "ipython",
    "version": 3
   },
   "file_extension": ".py",
   "mimetype": "text/x-python",
   "name": "python",
   "nbconvert_exporter": "python",
   "pygments_lexer": "ipython3",
   "version": "3.11.3"
  },
  "orig_nbformat": 4,
  "vscode": {
   "interpreter": {
    "hash": "916dbcbb3f70747c44a77c7bcd40155683ae19c65e1c03b4aa3499c5328201f1"
   }
  }
 },
 "nbformat": 4,
 "nbformat_minor": 2
}
