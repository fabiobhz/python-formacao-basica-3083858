{
 "cells": [
  {
   "attachments": {},
   "cell_type": "markdown",
   "metadata": {},
   "source": [
    "- Crie tratamento para as exceções: ZeroDivisionError e TypeError usando a sintaxe try...except...finally\n"
   ]
  },
  {
   "cell_type": "code",
   "execution_count": 7,
   "metadata": {},
   "outputs": [
    {
     "name": "stdout",
     "output_type": "stream",
     "text": [
      "Existe um erro de tipo.\n",
      "Fim\n"
     ]
    }
   ],
   "source": [
    "from random import random, randrange\n",
    "\n",
    "try:\n",
    "  x = random() / 'a'\n",
    "\n",
    "except ZeroDivisionError:\n",
    "  print('Nenhum numero é divisivel por zero')\n",
    "\n",
    "except TypeError:\n",
    "  print('Existe um erro de tipo.')\n",
    "\n",
    "finally:\n",
    "  print('Fim')"
   ]
  }
 ],
 "metadata": {
  "kernelspec": {
   "display_name": "Python 3",
   "language": "python",
   "name": "python3"
  },
  "language_info": {
   "codemirror_mode": {
    "name": "ipython",
    "version": 3
   },
   "file_extension": ".py",
   "mimetype": "text/x-python",
   "name": "python",
   "nbconvert_exporter": "python",
   "pygments_lexer": "ipython3",
   "version": "3.11.3"
  },
  "orig_nbformat": 4,
  "vscode": {
   "interpreter": {
    "hash": "916dbcbb3f70747c44a77c7bcd40155683ae19c65e1c03b4aa3499c5328201f1"
   }
  }
 },
 "nbformat": 4,
 "nbformat_minor": 2
}
