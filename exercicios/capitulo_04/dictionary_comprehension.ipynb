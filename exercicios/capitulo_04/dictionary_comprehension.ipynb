{
 "cells": [
  {
   "attachments": {},
   "cell_type": "markdown",
   "metadata": {},
   "source": [
    "- Crie uma lista\n"
   ]
  },
  {
   "cell_type": "code",
   "execution_count": 3,
   "metadata": {},
   "outputs": [],
   "source": [
    "lista = ['carro', 'casa', 'viagem', 'lazer']"
   ]
  },
  {
   "attachments": {},
   "cell_type": "markdown",
   "metadata": {},
   "source": [
    "- Usando o recurso dictionary comprehension, crie um dicionário cuja a chave é o comprimento do item e o valor, o próprio item da lista.\n"
   ]
  },
  {
   "cell_type": "code",
   "execution_count": 16,
   "metadata": {},
   "outputs": [
    {
     "name": "stdout",
     "output_type": "stream",
     "text": [
      "{'5-c': 'carro', '4-c': 'casa', '6-v': 'viagem', '5-l': 'lazer'}\n"
     ]
    }
   ],
   "source": [
    "dicionario_tamanho = {f'{len(item)}-{item[0]}': item for item in lista}\n",
    "print(dicionario_tamanho)"
   ]
  },
  {
   "attachments": {},
   "cell_type": "markdown",
   "metadata": {},
   "source": [
    "- Crie uma lista de tuplas\n"
   ]
  },
  {
   "cell_type": "code",
   "execution_count": 12,
   "metadata": {},
   "outputs": [],
   "source": [
    "lista_tuplas = {('carro', 'Lynk&Co'), ('cor', 'preto')}"
   ]
  },
  {
   "attachments": {},
   "cell_type": "markdown",
   "metadata": {},
   "source": [
    "- Usando o recurso dictionary comprehension, crie um dicionário cuja a chave é o primeiro item da tupla e o valor, o segundo\n"
   ]
  },
  {
   "cell_type": "code",
   "execution_count": 14,
   "metadata": {},
   "outputs": [
    {
     "name": "stdout",
     "output_type": "stream",
     "text": [
      "{'cor': 'preto', 'carro': 'Lynk&Co'}\n"
     ]
    }
   ],
   "source": [
    "dicionario_tuplas = {chave: valor for (chave, valor) in lista_tuplas}\n",
    "print(dicionario_tuplas)"
   ]
  },
  {
   "attachments": {},
   "cell_type": "markdown",
   "metadata": {},
   "source": [
    "- Crie um dicionário\n"
   ]
  },
  {
   "cell_type": "code",
   "execution_count": 17,
   "metadata": {},
   "outputs": [],
   "source": [
    "dicionario = {\n",
    "  'mar': 'azul',\n",
    "  'nuvem': 'branca',\n",
    "  'sol': 'amarela'\n",
    "}"
   ]
  },
  {
   "attachments": {},
   "cell_type": "markdown",
   "metadata": {},
   "source": [
    "- Usando o recurso dictionary comprehension, crie um novo dicionário cuja a chave é uma maniputação do valor\n"
   ]
  },
  {
   "cell_type": "code",
   "execution_count": 19,
   "metadata": {},
   "outputs": [
    {
     "name": "stdout",
     "output_type": "stream",
     "text": [
      "{'mar': 'a', 'nuvem': 'b', 'sol': 'a'}\n"
     ]
    }
   ],
   "source": [
    "dicionario_modificado = {chave: valor[0] for (chave, valor) in dicionario.items()}\n",
    "print(dicionario_modificado)"
   ]
  },
  {
   "attachments": {},
   "cell_type": "markdown",
   "metadata": {},
   "source": [
    "- Usando o recurso dictionary comprehension, crie um dicionário só com chaves com commprimento menor ou igual a 3\n"
   ]
  },
  {
   "cell_type": "code",
   "execution_count": 21,
   "metadata": {},
   "outputs": [
    {
     "name": "stdout",
     "output_type": "stream",
     "text": [
      "{'mar': 'a', 'sol': 'a'}\n"
     ]
    }
   ],
   "source": [
    "dicionario_filtrado = {chave: valor[0] for (chave, valor) in dicionario.items() if len(chave) <= 3}\n",
    "print(dicionario_filtrado)"
   ]
  }
 ],
 "metadata": {
  "kernelspec": {
   "display_name": "Python 3",
   "language": "python",
   "name": "python3"
  },
  "language_info": {
   "codemirror_mode": {
    "name": "ipython",
    "version": 3
   },
   "file_extension": ".py",
   "mimetype": "text/x-python",
   "name": "python",
   "nbconvert_exporter": "python",
   "pygments_lexer": "ipython3",
   "version": "3.11.3"
  },
  "orig_nbformat": 4,
  "vscode": {
   "interpreter": {
    "hash": "916dbcbb3f70747c44a77c7bcd40155683ae19c65e1c03b4aa3499c5328201f1"
   }
  }
 },
 "nbformat": 4,
 "nbformat_minor": 2
}
