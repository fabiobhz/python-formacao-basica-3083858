{
 "cells": [
  {
   "attachments": {},
   "cell_type": "markdown",
   "metadata": {},
   "source": [
    "- Crie uma lista\n"
   ]
  },
  {
   "cell_type": "code",
   "execution_count": 1,
   "metadata": {},
   "outputs": [],
   "source": [
    "lista = ['amor', 'dinheiro', 'saude', 'amizade']"
   ]
  },
  {
   "attachments": {},
   "cell_type": "markdown",
   "metadata": {},
   "source": [
    "- Crie um for loop para imprimir na tela todos os elementos da lista\n"
   ]
  },
  {
   "cell_type": "code",
   "execution_count": 2,
   "metadata": {},
   "outputs": [
    {
     "name": "stdout",
     "output_type": "stream",
     "text": [
      "amor\n",
      "dinheiro\n",
      "saude\n",
      "amizade\n"
     ]
    }
   ],
   "source": [
    "for item in lista:\n",
    "  print(item)"
   ]
  },
  {
   "attachments": {},
   "cell_type": "markdown",
   "metadata": {},
   "source": [
    "- Crie um for loop usando o recurso \"continue\"\n"
   ]
  },
  {
   "cell_type": "code",
   "execution_count": 3,
   "metadata": {},
   "outputs": [
    {
     "name": "stdout",
     "output_type": "stream",
     "text": [
      "A palavra amor comeca com a letra 'a'.\n",
      "A palavra dinheiro não comeca com a letra 'a'.\n",
      "A palavra saude não comeca com a letra 'a'.\n",
      "A palavra amizade comeca com a letra 'a'.\n"
     ]
    }
   ],
   "source": [
    "for item in lista:\n",
    "  if item[0] == 'a':\n",
    "    print(f\"A palavra {item} comeca com a letra 'a'.\")\n",
    "    continue\n",
    "  elif item[0] != 'a':\n",
    "    print(f\"A palavra {item} não comeca com a letra 'a'.\")"
   ]
  },
  {
   "attachments": {},
   "cell_type": "markdown",
   "metadata": {},
   "source": [
    "- Crie um for loop usando o recurso \"break\"\n"
   ]
  },
  {
   "cell_type": "code",
   "execution_count": 4,
   "metadata": {},
   "outputs": [
    {
     "name": "stdout",
     "output_type": "stream",
     "text": [
      "A palavra amor comeca com a letra 'a'.\n"
     ]
    }
   ],
   "source": [
    "for item in lista:\n",
    "  if item[0] == 'a':\n",
    "    print(f\"A palavra {item} comeca com a letra 'a'.\")\n",
    "    break\n",
    "  elif item[0] != 'a':\n",
    "    print(f\"A palavra {item} não comeca com a letra 'a'.\")"
   ]
  },
  {
   "attachments": {},
   "cell_type": "markdown",
   "metadata": {},
   "source": [
    "- Crie um for loop usando o \"else\"\n"
   ]
  },
  {
   "cell_type": "code",
   "execution_count": 5,
   "metadata": {},
   "outputs": [
    {
     "name": "stdout",
     "output_type": "stream",
     "text": [
      "A palavra amor comeca com a letra 'a'.\n",
      "A palavra dinheiro não comeca com a letra 'a'.\n",
      "A palavra saude não comeca com a letra 'a'.\n",
      "A palavra amizade comeca com a letra 'a'.\n"
     ]
    }
   ],
   "source": [
    "for item in lista:\n",
    "  if item[0] == 'a':\n",
    "    print(f\"A palavra {item} comeca com a letra 'a'.\")\n",
    "    continue\n",
    "  else:\n",
    "    print(f\"A palavra {item} não comeca com a letra 'a'.\")"
   ]
  }
 ],
 "metadata": {
  "kernelspec": {
   "display_name": "Python 3",
   "language": "python",
   "name": "python3"
  },
  "language_info": {
   "codemirror_mode": {
    "name": "ipython",
    "version": 3
   },
   "file_extension": ".py",
   "mimetype": "text/x-python",
   "name": "python",
   "nbconvert_exporter": "python",
   "pygments_lexer": "ipython3",
   "version": "3.11.3"
  },
  "orig_nbformat": 4,
  "vscode": {
   "interpreter": {
    "hash": "916dbcbb3f70747c44a77c7bcd40155683ae19c65e1c03b4aa3499c5328201f1"
   }
  }
 },
 "nbformat": 4,
 "nbformat_minor": 2
}
